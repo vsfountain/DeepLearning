{
 "cells": [
  {
   "cell_type": "markdown",
   "metadata": {
    "collapsed": true,
    "run_control": {
     "frozen": false,
     "read_only": false
    }
   },
   "source": [
    "# COMS 4995_002 Deep Learning Assignment 1\n",
    "Due on Monday, Oct 9, 11:59pm\n",
    "\n",
    "This assignment can be done in groups of at most 3 students. Everyone must submit on Courseworks individually."
   ]
  },
  {
   "cell_type": "markdown",
   "metadata": {
    "run_control": {
     "frozen": false,
     "read_only": false
    }
   },
   "source": [
    "Write down the UNIs of your group (if applicable)\n",
    "\n",
    "Member 1: Wilson Lui, wl2522\n",
    "\n",
    "Member 2: Vanessa Saldana Fountain, vsf2106\n",
    "\n",
    "Member 3: Craig Brandon Barretto, cbb2151"
   ]
  },
  {
   "cell_type": "code",
   "execution_count": 1,
   "metadata": {
    "ExecuteTime": {
     "end_time": "2017-10-10T11:09:48.346520",
     "start_time": "2017-10-10T11:09:48.317493"
    },
    "run_control": {
     "frozen": false,
     "read_only": false
    }
   },
   "outputs": [],
   "source": [
    "%matplotlib inline\n",
    "import matplotlib.pyplot as plt\n",
    "import numpy as np\n",
    "import scipy.misc\n",
    "import glob\n",
    "import sys\n",
    "# you shouldn't need to make any more imports"
   ]
  },
  {
   "cell_type": "code",
   "execution_count": 15,
   "metadata": {
    "ExecuteTime": {
     "end_time": "2017-10-10T12:00:42.087690",
     "start_time": "2017-10-10T12:00:41.419374"
    },
    "run_control": {
     "frozen": false,
     "read_only": false
    }
   },
   "outputs": [],
   "source": [
    "class NeuralNetwork(object):\n",
    "    \"\"\"\n",
    "    Abstraction of neural network.\n",
    "    Stores parameters, activations, cached values. \n",
    "    Provides necessary functions for training and prediction. \n",
    "    \"\"\"\n",
    "    def __init__(self, layer_dimensions, drop_prob=0.0, reg_lambda=0.0):\n",
    "        \"\"\"\n",
    "        Initializes the weights and biases for each layer\n",
    "        :param layer_dimensions: (list) number of nodes in each layer\n",
    "        :param drop_prob: drop probability for dropout layers. Only required in part 2 of the assignment\n",
    "        :param reg_lambda: regularization parameter. Only required in part 2 of the assignment\n",
    "        \"\"\"\n",
    "        np.random.seed(1)\n",
    "        \n",
    "        self.num_layers = len(layer_dimensions)\n",
    "        self.drop_prob = drop_prob\n",
    "        self.reg_lambda = reg_lambda\n",
    "        \n",
    "        self.parameters = {'num_layers': self.num_layers,\n",
    "                           'drop_prob': self.drop_prob,\n",
    "                           'reg_lambda': self.reg_lambda}\n",
    "        \n",
    "        self.weights = [np.random.randn(layer_dimensions[layer],\n",
    "                                        layer_dimensions[layer - 1]) for layer in range(1, self.num_layers)]\n",
    "        self.biases = [np.random.randn(layer, 1) for layer in layer_dimensions[1:]]\n",
    "        \n",
    "        # init parameters\n",
    "\n",
    "    def affineForward(self, A, W, b, batch_norm=False):\n",
    "        \"\"\"\n",
    "        Forward pass for the affine layer.\n",
    "        :param A: input matrix, shape (L, S), where L is the number of hidden units in the previous layer and S is\n",
    "        the number of samples\n",
    "        :returns: the affine product WA + b, along with the cache required for the backward pass\n",
    "        \"\"\"\n",
    "        if batch_norm == False:\n",
    "            Z = np.matmul(W, A) + b\n",
    "            cache = [A, W, b, Z]\n",
    "            \n",
    "        elif batch_norm == True:\n",
    "            mean = (np.sum(A, axis=1)/A.shape[1]).reshape(-1, 1)\n",
    "            zero_centered = A - mean\n",
    "            var = (np.sum((zero_centered)**2, axis=1)/A.shape[1]).reshape(-1, 1)\n",
    "            normalized_A = zero_centered/np.sqrt(var)\n",
    "            Z = np.matmul(W, normalized_A) + b\n",
    "            cache = [normalized_A, W, b, Z]\n",
    "            \n",
    "        return Z, cache\n",
    "        \n",
    "\n",
    "    def activationForward(self, A, activation=\"relu\"):\n",
    "        \"\"\"\n",
    "        Common interface to access all activation functions.\n",
    "        :param A: input to the activation function\n",
    "        :param prob: activation funciton to apply to A. Just \"relu\" for this assignment.\n",
    "        :returns: activation(A)\n",
    "        \"\"\" \n",
    "        if activation == 'relu':\n",
    "            A, M = self.relu(self.dropout(A, self.drop_prob))\n",
    "            \n",
    "            return A, M\n",
    "        \n",
    "        elif activation == 'relu_no_dropout':\n",
    "            return self.relu(A), np.ones(A.shape)\n",
    "        \n",
    "        \n",
    "    def relu(self, X):\n",
    "        return np.maximum(0, X)\n",
    "            \n",
    "        \n",
    "    def dropout(self, A, prob):\n",
    "        \"\"\"\n",
    "        :param A: \n",
    "        :param prob: drop prob\n",
    "        :returns: tuple (A, M) \n",
    "            WHERE\n",
    "            A is matrix after applying dropout\n",
    "            M is dropout mask, used in the backward pass\n",
    "        \"\"\"\n",
    "        M = np.random.binomial(1, 1 - prob, A.shape)\n",
    "        A = (M*A)/(1 - prob)\n",
    "\n",
    "        return A, M\n",
    "\n",
    "    \n",
    "    def forwardPropagation(self, X):\n",
    "        \"\"\"\n",
    "        Runs an input X through the neural network to compute activations\n",
    "        for all layers. Returns the output computed at the last layer along\n",
    "        with the cache required for backpropagation.\n",
    "        :returns: (tuple) AL, cache\n",
    "            WHERE \n",
    "            AL is activation of last layer\n",
    "            cache is cached values for each layer that\n",
    "                     are needed in further steps\n",
    "        \"\"\"\n",
    "        \n",
    "        weights = self.weights\n",
    "        biases = self.biases\n",
    "        \n",
    "        cache = []\n",
    "        AL = X\n",
    "\n",
    "        for i in range(self.num_layers - 1):\n",
    "            h, c = self.affineForward(AL, weights[i], biases[i])\n",
    "            \n",
    "            if i == 0:\n",
    "                AL, M = self.activationForward(h, activation='relu_no_dropout')\n",
    "                \n",
    "            elif i == (self.num_layers - 2):\n",
    "                AL = h\n",
    "            \n",
    "            else:\n",
    "                AL, M = self.activationForward(h)\n",
    "            \n",
    "            c.append(M)\n",
    "            cache.append(c)\n",
    "            print('forward cache', c[1].shape)\n",
    "\n",
    "        return AL, cache\n",
    "\n",
    "\n",
    "    def costFunction(self, AL, y):\n",
    "        \"\"\"\n",
    "        :param AL: Activation of last layer, shape (num_classes, S)\n",
    "        :param y: labels, shape (S)\n",
    "        :param alpha: regularization parameter\n",
    "        :returns cost, dAL: A scalar denoting cost and the gradient of cost\n",
    "        \"\"\"\n",
    "        # compute loss\n",
    "\n",
    "        numerator = np.log(AL[y.astype(int), np.arange(y.shape[0])])\n",
    "        denominator = scipy.misc.logsumexp(AL, axis=0)\n",
    "\n",
    "        if self.reg_lambda > 0:\n",
    "            # add regularization\n",
    "            l2 = 0\n",
    "            \n",
    "            for W in self.weights:\n",
    "                l2 += np.sum(np.power(W, 2))\n",
    "            \n",
    "            l2 = l2 + self.reg_lambda/(2*y.shape[0])\n",
    "            cost = np.sum(-(numerator - denominator))/AL.shape[1] + l2\n",
    "        \n",
    "        elif self.reg_lambda == 0:\n",
    "            cost = np.sum(-(numerator - denominator))/AL.shape[1]\n",
    "        \n",
    "        # gradient of cost\n",
    "        \n",
    "        dAL = -np.exp(-denominator - numerator)\n",
    "        \n",
    "        return cost, dAL\n",
    "\n",
    "    \n",
    "    def affineBackward(self, dA_prev, cache):\n",
    "        \"\"\"\n",
    "        Backward pass for the affine layer.\n",
    "        :param dA_prev: gradient from the next layer.\n",
    "        :param cache: cache returned in affineForward\n",
    "        :returns dA: gradient on the input to this layer\n",
    "                 dW: gradient on the weights\n",
    "                 db: gradient on the bias\n",
    "        \"\"\"\n",
    "        #fully connected layer with no non-linear activation function \n",
    "        #dot product between inputs and weights\n",
    "        \n",
    "        AL, W, b, Z = cache[0][:-1]\n",
    "        AL_prev = cache[1][0]\n",
    "        dZ = self.relu_derivative(dA_prev, Z)\n",
    "        dA = np.matmul(W.T, dZ)\n",
    "        dW = np.matmul(dZ, AL_prev.T)/AL.shape[1]\n",
    "        db = np.sum(dZ, axis=1)/AL.shape[1]\n",
    "        \n",
    "        return dA, dW, db\n",
    "    \n",
    "\n",
    "    def activationBackward(self, dA, cache, activation=\"relu\"):\n",
    "        \"\"\"\n",
    "        Interface to call backward on activation functions.\n",
    "        In this case, it's just relu. \n",
    "        \"\"\"\n",
    "        if activation == 'relu':\n",
    "            return self.relu(self.dropout_backward(dA, cache[4]))\n",
    "        \n",
    "        elif activation == 'relu_no_dropout':\n",
    "            return self.relu(A)\n",
    "        \n",
    "        else:\n",
    "            return self.dropout_backward(dA, cache[4])\n",
    "    \n",
    "        \n",
    "    def relu_derivative(self, dx, cached_x):\n",
    "        \"\"\"\n",
    "        Inputs:\n",
    "        dx: upstream derivative\n",
    "        cached_x: input of relu\n",
    "\n",
    "        Returns:\n",
    "        dx: gradient with respect to cached_x\n",
    "        \"\"\"\n",
    "        dx[dx <= 0] = 0\n",
    "        dx[dx > 0] = 1\n",
    "    \n",
    "        return cached_x*dx\n",
    "\n",
    "    def dropout_backward(self, dA, cache):\n",
    "        dA = dA*cache\n",
    "        \n",
    "        return dA \n",
    "\n",
    "    def backPropagation(self, dAL, Y, cache):\n",
    "        \"\"\"\n",
    "        Run backpropagation to compute gradients on all paramters in the model\n",
    "        :param dAL: gradient on the last layer of the network. Returned by the cost function.\n",
    "        :param Y: labels\n",
    "        :param cache: cached values during forwardprop\n",
    "        :returns gradients: dW and db for each weight/bias\n",
    "        \"\"\"\n",
    "        gradients = {'dW': list(),\n",
    "                     'db': list()}\n",
    "\n",
    "        #call activagion backward first then affine backward\n",
    "        #if there is dropout it will come in the beginning\n",
    "        \n",
    "        for layer in cache[::-1]:\n",
    "            print(layer[1].shape)\n",
    "        \n",
    "        dA = dAL\n",
    "        \n",
    "        for i in range(self.num_layers - 1):\n",
    "            print(i, cache[-i - 1][1].shape)\n",
    "            if i == 0:\n",
    "                dA, dW, db = self.affineBackward(dA, (cache[-i - 1], cache[-i - 2]))\n",
    "            \n",
    "            else:\n",
    "                dA = self.activationBackward(dA, cache[-i - 1], activation=\"relu\")\n",
    "                dW, db = self.affineBackward(dA, (cache[-i - 1], cache[-i - 2]))\n",
    "                \n",
    "            \n",
    "            gradients['dW'].append(dW)\n",
    "            gradients['db'].append(db)\n",
    "            \n",
    "            if self.drop_prob > 0:\n",
    "                dA = self.dropout_backward(self, dA, cache)\n",
    "                #call dropout_backward\n",
    "            \n",
    "            prev_dAL = dA\n",
    "        \n",
    "        gradients['dW'].reverse()\n",
    "        gradients['db'].reverse()\n",
    "        \n",
    "        if self.reg_lambda > 0:\n",
    "            # add gradients from L2 regularization to each dW\n",
    "            \n",
    "            for i in range(self.num_layers - 1):\n",
    "                gradients['dW'][i] = gradients['dW'][i] + (self.reg_lambda/Y.shape[0])*cache[i][1]\n",
    "            \n",
    "        return gradients\n",
    "\n",
    "\n",
    "    def updateParameters(self, gradients, alpha):\n",
    "        \"\"\"\n",
    "        :param gradients: gradients for each weight/bias\n",
    "        :param alpha: step size for gradient descent \n",
    "        \"\"\"\n",
    "        self.weights = [w - (alpha*dw) for w, dw in zip(self.weights, gradients['dW'])]\n",
    "        self.biases = [b - (alpha*db) for b, db in zip(self.biases, gradients['db'])]\n",
    "\n",
    "        \n",
    "    def get_batch(self, X, y, batch_size):\n",
    "        \"\"\"\n",
    "        Return minibatch of samples and labels\n",
    "        \n",
    "        :param X, y: samples and corresponding labels\n",
    "        :parma batch_size: minibatch size\n",
    "        :returns: (tuple) X_batch, y_batch\n",
    "        \"\"\"\n",
    "        num_samples = len(y)\n",
    "        idx = np.random.randint(num_samples, size=batch_size)\n",
    "        \n",
    "        X_batch = X[:,idx]\n",
    "        y_batch = y[idx]\n",
    "\n",
    "        return X_batch, y_batch\n",
    "    \n",
    "    def train(self, X, y, iters=1000, alpha=0.0001, batch_size=100, print_every=100):\n",
    "        \"\"\"\n",
    "        :param X: input samples, each column is a sample\n",
    "        :param y: labels for input samples, y.shape[0] must equal X.shape[1]\n",
    "        :param iters: number of training iterations\n",
    "        :param alpha: step size for gradientnt\n",
    "        :param batch_size: number of samples in a minibatch\n",
    "        :param print_every: no. of iterations to print debug info after\n",
    "        \"\"\"\n",
    "        tmp = np.vstack((X, y.reshape(1, y.shape[0])))\n",
    "        np.random.shuffle(tmp.T)\n",
    "        split_point = -int(0.1*X.shape[1])\n",
    "        X_train = tmp[:-1, :split_point]\n",
    "        y_train = tmp[-1, :split_point]\n",
    "        X_val = tmp[:-1, split_point:]\n",
    "        y_val = tmp[-1, split_point:]\n",
    "            \n",
    "        for i in range(0, iters):\n",
    "            # get minibatch\n",
    "            X_batch, y_batch = self.get_batch(X_train, y_train, batch_size)\n",
    "            \n",
    "            # forward prop\n",
    "            AL, cache = self.forwardPropagation(X_batch)\n",
    "            test = np.matmul(self.weights[0], X_batch) + self.biases[0]\n",
    "\n",
    "            # compute loss\n",
    "            cost, dAL = self.costFunction(AL, y_batch)\n",
    "\n",
    "            # compute gradients\n",
    "            gradients = self.backPropagation(dAL, y_batch, cache)\n",
    "\n",
    "            # update weights and biases based on gradient\n",
    "            self.updateParameters(gradients, alpha)\n",
    "\n",
    "            if i % print_every == 0:\n",
    "                train_pred = self.predict(X_train)\n",
    "                train_acc = np.where(train_pred == y_train)[0].shape[0]/y_train.shape[0]\n",
    "                val_pred = self.predict(X_val)\n",
    "                val_acc = np.where(val_pred == y_val)[0].shape[0]/y_val.shape[0]\n",
    "                \n",
    "                # print cost, train and validation set accuracies\n",
    "                print('cost: {}, training accuracy: {}, validation accuracy: {}'.format(cost, train_acc, val_acc))\n",
    "                \n",
    "    def predict(self, X):\n",
    "        \"\"\"\n",
    "        Make predictions for each sample\n",
    "        \"\"\"\n",
    "        #y_pred = [np.argmax(self.forwardPropagation(x)) for x in X]\n",
    "        y_pred = list()\n",
    "        for x in range(X.shape[1]):\n",
    "            pred = np.argmax(self.forwardPropagation(X[:, x].reshape(-1, 1))[0])\n",
    "            y_pred.append(pred)\n",
    "        \n",
    "        return y_pred\n"
   ]
  },
  {
   "cell_type": "code",
   "execution_count": 3,
   "metadata": {
    "ExecuteTime": {
     "end_time": "2017-10-10T11:09:57.707697",
     "start_time": "2017-10-10T11:09:57.699689"
    },
    "run_control": {
     "frozen": false,
     "read_only": false
    }
   },
   "outputs": [],
   "source": [
    "# Helper functions, DO NOT modify this\n",
    "\n",
    "def get_img_array(path):\n",
    "    \"\"\"\n",
    "    Given path of image, returns it's numpy array\n",
    "    \"\"\"\n",
    "    return scipy.misc.imread(path)\n",
    "\n",
    "def get_files(folder):\n",
    "    \"\"\"\n",
    "    Given path to folder, returns list of files in it\n",
    "    \"\"\"\n",
    "    filenames = [file for file in glob.glob(folder+'*/*')]\n",
    "    filenames.sort()\n",
    "    return filenames\n",
    "\n",
    "def get_label(filepath, label2id):\n",
    "    \"\"\"\n",
    "    Files are assumed to be labeled as: /path/to/file/999_frog.png\n",
    "    Returns label for a filepath\n",
    "    \"\"\"\n",
    "    tokens = filepath.split('/')\n",
    "    label = tokens[-1].split('_')[1][:-4]\n",
    "    if label in label2id:\n",
    "        return label2id[label]\n",
    "    else:\n",
    "        sys.exit(\"Invalid label: \" + label)"
   ]
  },
  {
   "cell_type": "code",
   "execution_count": 4,
   "metadata": {
    "ExecuteTime": {
     "end_time": "2017-10-10T11:10:00.314912",
     "start_time": "2017-10-10T11:10:00.279879"
    },
    "run_control": {
     "frozen": false,
     "read_only": false
    }
   },
   "outputs": [],
   "source": [
    "# Functions to load data, DO NOT change these\n",
    "\n",
    "def get_labels(folder, label2id):\n",
    "    \"\"\"\n",
    "    Returns vector of labels extracted from filenames of all files in folder\n",
    "    :param folder: path to data folder\n",
    "    :param label2id: mapping of text labels to numeric ids. (Eg: automobile -> 0)\n",
    "    \"\"\"\n",
    "    files = get_files(folder)\n",
    "    y = []\n",
    "    for f in files:\n",
    "        y.append(get_label(f,label2id))\n",
    "    return np.array(y)\n",
    "\n",
    "def one_hot(y, num_classes=10):\n",
    "    \"\"\"\n",
    "    Converts each label index in y to vector with one_hot encoding\n",
    "    \"\"\"\n",
    "    y_one_hot = np.zeros((y.shape[0], num_classes))\n",
    "    y_one_hot[y] = 1\n",
    "    return y_one_hot.T\n",
    "\n",
    "def get_label_mapping(label_file):\n",
    "    \"\"\"\n",
    "    Returns mappings of label to index and index to label\n",
    "    The input file has list of labels, each on a separate line.\n",
    "    \"\"\"\n",
    "    with open(label_file, 'r') as f:\n",
    "        id2label = f.readlines()\n",
    "        id2label = [l.strip() for l in id2label]\n",
    "    label2id = {}\n",
    "    count = 0\n",
    "    for label in id2label:\n",
    "        label2id[label] = count\n",
    "        count += 1\n",
    "    return id2label, label2id\n",
    "\n",
    "def get_images(folder):\n",
    "    \"\"\"\n",
    "    returns numpy array of all samples in folder\n",
    "    each column is a sample resized to 30x30 and flattened\n",
    "    \"\"\"\n",
    "    files = get_files(folder)\n",
    "    images = []\n",
    "    count = 0\n",
    "    \n",
    "    for f in files:\n",
    "        count += 1\n",
    "        if count % 10000 == 0:\n",
    "            print(\"Loaded {}/{}\".format(count,len(files)))\n",
    "        img_arr = get_img_array(f)\n",
    "        img_arr = img_arr.flatten() / 255.0\n",
    "        images.append(img_arr)\n",
    "    X = np.column_stack(images)\n",
    "\n",
    "    return X\n",
    "\n",
    "def get_train_data(data_root_path):\n",
    "    \"\"\"\n",
    "    Return X and y\n",
    "    \"\"\"\n",
    "    train_data_path = data_root_path + 'train'\n",
    "    id2label, label2id = get_label_mapping(data_root_path+'labels.txt')\n",
    "    print(label2id)\n",
    "    X = get_images(train_data_path)\n",
    "    y = get_labels(train_data_path, label2id)\n",
    "    return X, y\n",
    "\n",
    "def save_predictions(filename, y):\n",
    "    \"\"\"\n",
    "    Dumps y into .npy file\n",
    "    \"\"\"\n",
    "    np.save(filename, y)"
   ]
  },
  {
   "cell_type": "code",
   "execution_count": 5,
   "metadata": {
    "ExecuteTime": {
     "end_time": "2017-10-09T23:57:25.245549",
     "start_time": "2017-10-09T23:57:03.697512"
    },
    "run_control": {
     "frozen": false,
     "read_only": false
    }
   },
   "outputs": [
    {
     "name": "stdout",
     "output_type": "stream",
     "text": [
      "{'airplane': 0, 'automobile': 1, 'bird': 2, 'cat': 3, 'deer': 4, 'dog': 5, 'frog': 6, 'horse': 7, 'ship': 8, 'truck': 9}\n",
      "Loaded 10000/50000\n",
      "Loaded 20000/50000\n",
      "Loaded 30000/50000\n",
      "Loaded 40000/50000\n",
      "Loaded 50000/50000\n",
      "Loaded 10000/10000\n",
      "Data loading done\n"
     ]
    }
   ],
   "source": [
    "# Load the data\n",
    "data_root_path = 'cifar10-hw1/'\n",
    "X_train, y_train = get_train_data(data_root_path) # this may take a few minutes\n",
    "X_test = get_images(data_root_path + 'test')\n",
    "print('Data loading done')"
   ]
  },
  {
   "cell_type": "markdown",
   "metadata": {
    "run_control": {
     "frozen": false,
     "read_only": false
    }
   },
   "source": [
    "## Part 1\n",
    "\n",
    "#### Simple fully-connected deep neural network"
   ]
  },
  {
   "cell_type": "code",
   "execution_count": 16,
   "metadata": {
    "ExecuteTime": {
     "end_time": "2017-10-10T12:00:56.466583",
     "start_time": "2017-10-10T12:00:44.711899"
    },
    "run_control": {
     "frozen": false,
     "read_only": false
    },
    "scrolled": true
   },
   "outputs": [
    {
     "name": "stdout",
     "output_type": "stream",
     "text": [
      "forward cache (20, 3072)\n",
      "forward cache (10, 20)\n",
      "(10, 20)\n",
      "(20, 3072)\n",
      "0 (10, 20)\n",
      "1 (20, 3072)\n"
     ]
    },
    {
     "ename": "IndexError",
     "evalue": "list index out of range",
     "output_type": "error",
     "traceback": [
      "\u001b[1;31m---------------------------------------------------------------------------\u001b[0m",
      "\u001b[1;31mIndexError\u001b[0m                                Traceback (most recent call last)",
      "\u001b[1;32m<ipython-input-16-a65cae937176>\u001b[0m in \u001b[0;36m<module>\u001b[1;34m()\u001b[0m\n\u001b[0;32m      1\u001b[0m \u001b[0mlayer_dimensions\u001b[0m \u001b[1;33m=\u001b[0m \u001b[1;33m[\u001b[0m\u001b[0mX_train\u001b[0m\u001b[1;33m.\u001b[0m\u001b[0mshape\u001b[0m\u001b[1;33m[\u001b[0m\u001b[1;36m0\u001b[0m\u001b[1;33m]\u001b[0m\u001b[1;33m,\u001b[0m \u001b[1;36m20\u001b[0m\u001b[1;33m,\u001b[0m \u001b[1;36m10\u001b[0m\u001b[1;33m]\u001b[0m  \u001b[1;31m# including the input and output layers\u001b[0m\u001b[1;33m\u001b[0m\u001b[0m\n\u001b[0;32m      2\u001b[0m \u001b[0mNN\u001b[0m \u001b[1;33m=\u001b[0m \u001b[0mNeuralNetwork\u001b[0m\u001b[1;33m(\u001b[0m\u001b[0mlayer_dimensions\u001b[0m\u001b[1;33m)\u001b[0m\u001b[1;33m\u001b[0m\u001b[0m\n\u001b[1;32m----> 3\u001b[1;33m \u001b[0mNN\u001b[0m\u001b[1;33m.\u001b[0m\u001b[0mtrain\u001b[0m\u001b[1;33m(\u001b[0m\u001b[0mX_train\u001b[0m\u001b[1;33m,\u001b[0m \u001b[0my_train\u001b[0m\u001b[1;33m,\u001b[0m \u001b[0miters\u001b[0m\u001b[1;33m=\u001b[0m\u001b[1;36m1\u001b[0m\u001b[1;33m,\u001b[0m \u001b[0malpha\u001b[0m\u001b[1;33m=\u001b[0m\u001b[1;36m0.00001\u001b[0m\u001b[1;33m,\u001b[0m \u001b[0mbatch_size\u001b[0m\u001b[1;33m=\u001b[0m\u001b[1;36m100\u001b[0m\u001b[1;33m,\u001b[0m \u001b[0mprint_every\u001b[0m\u001b[1;33m=\u001b[0m\u001b[1;36m5\u001b[0m\u001b[1;33m)\u001b[0m\u001b[1;33m\u001b[0m\u001b[0m\n\u001b[0m",
      "\u001b[1;32m<ipython-input-15-c1108c88c5a3>\u001b[0m in \u001b[0;36mtrain\u001b[1;34m(self, X, y, iters, alpha, batch_size, print_every)\u001b[0m\n\u001b[0;32m    314\u001b[0m \u001b[1;33m\u001b[0m\u001b[0m\n\u001b[0;32m    315\u001b[0m             \u001b[1;31m# compute gradients\u001b[0m\u001b[1;33m\u001b[0m\u001b[1;33m\u001b[0m\u001b[0m\n\u001b[1;32m--> 316\u001b[1;33m             \u001b[0mgradients\u001b[0m \u001b[1;33m=\u001b[0m \u001b[0mself\u001b[0m\u001b[1;33m.\u001b[0m\u001b[0mbackPropagation\u001b[0m\u001b[1;33m(\u001b[0m\u001b[0mdAL\u001b[0m\u001b[1;33m,\u001b[0m \u001b[0my_batch\u001b[0m\u001b[1;33m,\u001b[0m \u001b[0mcache\u001b[0m\u001b[1;33m)\u001b[0m\u001b[1;33m\u001b[0m\u001b[0m\n\u001b[0m\u001b[0;32m    317\u001b[0m \u001b[1;33m\u001b[0m\u001b[0m\n\u001b[0;32m    318\u001b[0m             \u001b[1;31m# update weights and biases based on gradient\u001b[0m\u001b[1;33m\u001b[0m\u001b[1;33m\u001b[0m\u001b[0m\n",
      "\u001b[1;32m<ipython-input-15-c1108c88c5a3>\u001b[0m in \u001b[0;36mbackPropagation\u001b[1;34m(self, dAL, Y, cache)\u001b[0m\n\u001b[0;32m    236\u001b[0m             \u001b[1;32melse\u001b[0m\u001b[1;33m:\u001b[0m\u001b[1;33m\u001b[0m\u001b[0m\n\u001b[0;32m    237\u001b[0m                 \u001b[0mdA\u001b[0m \u001b[1;33m=\u001b[0m \u001b[0mself\u001b[0m\u001b[1;33m.\u001b[0m\u001b[0mactivationBackward\u001b[0m\u001b[1;33m(\u001b[0m\u001b[0mdA\u001b[0m\u001b[1;33m,\u001b[0m \u001b[0mcache\u001b[0m\u001b[1;33m[\u001b[0m\u001b[1;33m-\u001b[0m\u001b[0mi\u001b[0m \u001b[1;33m-\u001b[0m \u001b[1;36m1\u001b[0m\u001b[1;33m]\u001b[0m\u001b[1;33m,\u001b[0m \u001b[0mactivation\u001b[0m\u001b[1;33m=\u001b[0m\u001b[1;34m\"relu\"\u001b[0m\u001b[1;33m)\u001b[0m\u001b[1;33m\u001b[0m\u001b[0m\n\u001b[1;32m--> 238\u001b[1;33m                 \u001b[0mdW\u001b[0m\u001b[1;33m,\u001b[0m \u001b[0mdb\u001b[0m \u001b[1;33m=\u001b[0m \u001b[0mself\u001b[0m\u001b[1;33m.\u001b[0m\u001b[0maffineBackward\u001b[0m\u001b[1;33m(\u001b[0m\u001b[0mdA\u001b[0m\u001b[1;33m,\u001b[0m \u001b[1;33m(\u001b[0m\u001b[0mcache\u001b[0m\u001b[1;33m[\u001b[0m\u001b[1;33m-\u001b[0m\u001b[0mi\u001b[0m \u001b[1;33m-\u001b[0m \u001b[1;36m1\u001b[0m\u001b[1;33m]\u001b[0m\u001b[1;33m,\u001b[0m \u001b[0mcache\u001b[0m\u001b[1;33m[\u001b[0m\u001b[1;33m-\u001b[0m\u001b[0mi\u001b[0m \u001b[1;33m-\u001b[0m \u001b[1;36m2\u001b[0m\u001b[1;33m]\u001b[0m\u001b[1;33m)\u001b[0m\u001b[1;33m)\u001b[0m\u001b[1;33m\u001b[0m\u001b[0m\n\u001b[0m\u001b[0;32m    239\u001b[0m \u001b[1;33m\u001b[0m\u001b[0m\n\u001b[0;32m    240\u001b[0m \u001b[1;33m\u001b[0m\u001b[0m\n",
      "\u001b[1;31mIndexError\u001b[0m: list index out of range"
     ]
    }
   ],
   "source": [
    "layer_dimensions = [X_train.shape[0], 20, 10]  # including the input and output layers\n",
    "NN = NeuralNetwork(layer_dimensions)\n",
    "NN.train(X_train, y_train, iters=1, alpha=0.00001, batch_size=100, print_every=5)"
   ]
  },
  {
   "cell_type": "code",
   "execution_count": null,
   "metadata": {
    "ExecuteTime": {
     "end_time": "2017-10-09T02:38:08.328841",
     "start_time": "2017-10-09T02:37:58.525751"
    },
    "collapsed": true,
    "run_control": {
     "frozen": false,
     "read_only": false
    }
   },
   "outputs": [],
   "source": [
    "y_predicted = NN.predict(X_test)\n",
    "save_predictions('ans1-uni', y_predicted)"
   ]
  },
  {
   "cell_type": "code",
   "execution_count": null,
   "metadata": {
    "collapsed": true,
    "run_control": {
     "frozen": false,
     "read_only": false
    }
   },
   "outputs": [],
   "source": [
    "# test if your numpy file has been saved correctly\n",
    "loaded_y = np.load('ans1-uni.npy')\n",
    "print(loaded_y.shape)\n",
    "loaded_y[:10]"
   ]
  },
  {
   "cell_type": "markdown",
   "metadata": {
    "collapsed": true,
    "run_control": {
     "frozen": false,
     "read_only": false
    }
   },
   "source": [
    "## Part 2: Regularizing the neural network\n",
    "#### Add dropout and L2 regularization"
   ]
  },
  {
   "cell_type": "code",
   "execution_count": null,
   "metadata": {
    "ExecuteTime": {
     "end_time": "2017-10-09T14:32:58.457554",
     "start_time": "2017-10-09T14:32:58.317420"
    },
    "collapsed": true,
    "run_control": {
     "frozen": false,
     "read_only": false
    }
   },
   "outputs": [],
   "source": [
    "NN2 = NeuralNetwork(layer_dimensions, drop_prob=0, reg_lambda=0.1)\n",
    "NN2.train(X_train[:, :500], y_train[:500], iters=1000, alpha=0.00001, batch_size=1000, print_every=10)"
   ]
  },
  {
   "cell_type": "code",
   "execution_count": null,
   "metadata": {
    "collapsed": true,
    "run_control": {
     "frozen": false,
     "read_only": false
    }
   },
   "outputs": [],
   "source": [
    "y_predicted2 = NN2.predict(X_test)\n",
    "save_predictions('ans2-uni', y_predicted2)"
   ]
  }
 ],
 "metadata": {
  "anaconda-cloud": {},
  "kernelspec": {
   "display_name": "Python 3",
   "language": "python",
   "name": "python3"
  },
  "language_info": {
   "codemirror_mode": {
    "name": "ipython",
    "version": 3
   },
   "file_extension": ".py",
   "mimetype": "text/x-python",
   "name": "python",
   "nbconvert_exporter": "python",
   "pygments_lexer": "ipython3",
   "version": "3.6.2"
  },
  "notify_time": "30"
 },
 "nbformat": 4,
 "nbformat_minor": 2
}
