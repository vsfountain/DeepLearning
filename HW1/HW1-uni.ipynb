{
 "cells": [
  {
   "cell_type": "markdown",
   "metadata": {
    "collapsed": true,
    "run_control": {
     "frozen": false,
     "read_only": false
    }
   },
   "source": [
    "# COMS 4995_002 Deep Learning Assignment 1\n",
    "Due on Monday, Oct 9, 11:59pm\n",
    "\n",
    "This assignment can be done in groups of at most 3 students. Everyone must submit on Courseworks individually."
   ]
  },
  {
   "cell_type": "markdown",
   "metadata": {
    "run_control": {
     "frozen": false,
     "read_only": false
    }
   },
   "source": [
    "Write down the UNIs of your group (if applicable)\n",
    "\n",
    "Member 1: Wilson Lui, wl2522\n",
    "\n",
    "Member 2: Vanessa Saldana Fountain, vsf2106\n",
    "\n",
    "Member 3: Craig Brandon Barretto, cbb2151"
   ]
  },
  {
   "cell_type": "code",
   "execution_count": 256,
   "metadata": {
    "ExecuteTime": {
     "end_time": "2017-10-08T01:00:14.176612",
     "start_time": "2017-10-08T01:00:14.171607"
    },
    "collapsed": true,
    "run_control": {
     "frozen": false,
     "read_only": false
    }
   },
   "outputs": [],
   "source": [
    "%matplotlib inline\n",
    "import matplotlib.pyplot as plt\n",
    "import numpy as np\n",
    "import scipy.misc\n",
    "import glob\n",
    "import sys\n",
    "# you shouldn't need to make any more imports"
   ]
  },
  {
   "cell_type": "code",
   "execution_count": 9,
   "metadata": {
    "ExecuteTime": {
     "end_time": "2017-09-30T21:01:50.263907",
     "start_time": "2017-09-30T21:01:50.148796"
    },
    "collapsed": false,
    "run_control": {
     "frozen": false,
     "read_only": false
    }
   },
   "outputs": [
    {
     "ename": "SyntaxError",
     "evalue": "invalid syntax (<ipython-input-9-00586248cd93>, line 122)",
     "output_type": "error",
     "traceback": [
      "\u001b[0;36m  File \u001b[0;32m\"<ipython-input-9-00586248cd93>\"\u001b[0;36m, line \u001b[0;32m122\u001b[0m\n\u001b[0;31m    elif self.reg_lambda == 0:\u001b[0m\n\u001b[0m       ^\u001b[0m\n\u001b[0;31mSyntaxError\u001b[0m\u001b[0;31m:\u001b[0m invalid syntax\n"
     ]
    }
   ],
   "source": [
    "class NeuralNetwork(object):\n",
    "    \"\"\"\n",
    "    Abstraction of neural network.\n",
    "    Stores parameters, activations, cached values. \n",
    "    Provides necessary functions for training and prediction. \n",
    "    \"\"\"\n",
    "    def __init__(self, layer_dimensions, drop_prob=0.0, reg_lambda=0.0):\n",
    "        \"\"\"\n",
    "        Initializes the weights and biases for each layer\n",
    "        :param layer_dimensions: (list) number of nodes in each layer\n",
    "        :param drop_prob: drop probability for dropout layers. Only required in part 2 of the assignment\n",
    "        :param reg_lambda: regularization parameter. Only required in part 2 of the assignment\n",
    "        \"\"\"\n",
    "        np.random.seed(1)\n",
    "        \n",
    "        self.parameters = {'num_layers': self.num_layers,\n",
    "                           'drop_prob': self.drop_prob,\n",
    "                           'reg_lambda': self.reg_lambda}\n",
    "        self.num_layers = len(layer_dimensions)\n",
    "        self.drop_prob = drop_prob\n",
    "        self.reg_lambda = reg_lambda\n",
    "        \n",
    "        self.weights = [np.random.randn(layer_dimensions[layer],\n",
    "                                        layer_dimensions[layer - 1]) for layer in range(1, num_layers)]\n",
    "        self.biases = [np.random.randn(layer, 1) for layer in layer_dimensions[1:]]\n",
    "        \n",
    "        # init parameters\n",
    "        \n",
    "\n",
    "    def affineForward(self, A, W, b):\n",
    "        \"\"\"\n",
    "        Forward pass for the affine layer.\n",
    "        :param A: input matrix, shape (L, S), where L is the number of hidden units in the previous layer and S is\n",
    "        the number of samples\n",
    "        :returns: the affine product WA + b, along with the cache required for the backward pass\n",
    "        \"\"\"\n",
    "        Z = np.matmul(W, A) + b\n",
    "        cache = [A, W, b]\n",
    "        \n",
    "        return Z, cache\n",
    "        \n",
    "\n",
    "    def activationForward(self, A, activation=\"relu\"):\n",
    "        \"\"\"\n",
    "        Common interface to access all activation functions.\n",
    "        :param A: input to the activation function\n",
    "        :param prob: activation funciton to apply to A. Just \"relu\" for this assignment.\n",
    "        :returns: activation(A)\n",
    "        \"\"\" \n",
    "        if activation == 'relu':\n",
    "            return relu(dropout(self, A, self.drop_prob)[0])\n",
    "        \n",
    "        elif activation == 'relu_no_dropout':\n",
    "            return relu(self, A, self.drop_prob)\n",
    "\n",
    "        \n",
    "    def relu(self, X):\n",
    "        return np.maximum(0, X)\n",
    "            \n",
    "        \n",
    "    def:\n",
    "        \"\"\"\n",
    "        :param A: \n",
    "        :param prob: drop prob\n",
    "        :returns: tuple (A, M) \n",
    "            WHERE\n",
    "            A is matrix after applying dropout\n",
    "            M is dropout mask, used in the backward pass\n",
    "        \"\"\"\n",
    "        M = np.random.binomial(1, 1 - prob, A.shape)\n",
    "        A = (M*A)/(1 - prob)\n",
    "        \n",
    "        return A, M\n",
    "\n",
    "    \n",
    "    def forwardPropagation(self, X):\n",
    "        \"\"\"\n",
    "        Runs an input X through the neural network to compute activations\n",
    "        for all layers. Returns the output computed at the last layer along\n",
    "        with the cache required for backpropagation.\n",
    "        :returns: (tuple) AL, cache\n",
    "            WHERE \n",
    "            AL is activation of last layer\n",
    "            cache is cached values for each layer that\n",
    "                     are needed in further steps\n",
    "        \"\"\"\n",
    "        \n",
    "        weights = self.weights\n",
    "        biases = self.biases\n",
    "        \n",
    "        cache = []\n",
    "        AL = X\n",
    "        \n",
    "        for i in range(self.num_layers):\n",
    "            h, c = affineForward(AL, weights[i], biases[i])\n",
    "            cache.append(c)\n",
    "            \n",
    "            if i == 0 or i == num_layers:\n",
    "                AL = activationForward(h, activation='relu_no_dropout')\n",
    "            \n",
    "            else:\n",
    "                AL = activationForward(h)\n",
    "            \n",
    "        return AL, cache\n",
    "\n",
    "\n",
    "    def costFunction(self, AL, y):\n",
    "        \"\"\"\n",
    "        :param AL: Activation of last layer, shape (num_classes, S)\n",
    "        :param y: labels, shape (S)\n",
    "        :param alpha: regularization parameter\n",
    "        :returns cost, dAL: A scalar denoting cost and the gradient of cost\n",
    "        \"\"\"\n",
    "        # compute loss\n",
    "        a = np.exp(X[y, np.arange(y.shape[0])])/np.sum(np.exp(X), axis=0)\n",
    "        \n",
    "        if self.reg_lambda > 0:\n",
    "            # add regularization\n",
    "            l2 = 0\n",
    "            \n",
    "            for W in self.weights:\n",
    "                l2 += np.sum(np.power(W, 2))\n",
    "            \n",
    "            l2 = l2 + self.reg_lambda/(2*y.shape[0])\n",
    "            cost = np.sum(-np.log(a))/X.shape[1] + l2\n",
    "        \n",
    "        elif self.reg_lambda == 0:\n",
    "            cost = np.sum(-np.log(a))/X.shape[1]\n",
    "        \n",
    "        # gradient of cost\n",
    "        dAL = -(y - a) - (1 - y)/(1 - a)\n",
    "        \n",
    "        return cost, dAL\n",
    "\n",
    "    def affineBackward(self, dA_prev, cache):\n",
    "        \"\"\"\n",
    "        Backward pass for the affine layer.\n",
    "        :param dA_prev: gradient from the next layer.\n",
    "        :param cache: cache returned in affineForward\n",
    "        :returns dA: gradient on the input to this layer\n",
    "                 dW: gradient on the weights\n",
    "                 db: gradient on the bias\n",
    "        \"\"\"\n",
    "        #fully connected layer with no non-linear activation function \n",
    "        #dot product between inputs and weights\n",
    "        \n",
    "        A = cache[0]\n",
    "        W = cache[1]\n",
    "        b = cache[2]\n",
    "        \n",
    "        dA = dA_prev.dot(dW.T).reshape(A.shape[0])\n",
    "        dW = A.reshape(A.shape[0], -1).T.dot(dA_prev)\n",
    "        db = np.sum(dA_prev, axis = 0)\n",
    "        \n",
    "        return dA, dW, db\n",
    "\n",
    "    def activationBackward(self, dA, cache, activation=\"relu\"):\n",
    "        \"\"\"\n",
    "        Interface to call backward on activation functions.\n",
    "        In this case, it's just relu. \n",
    "        \"\"\"\n",
    "        if activation == 'relu':\n",
    "            return relu(dropout_backward(self, dA, self.cache)[1])\n",
    "        \n",
    "        else:\n",
    "            return dropout_backward(self, dA, self.cache)[1]\n",
    "        \n",
    "    def relu_derivative(self, dx, cached_x):\n",
    "        dx = np.where(cached_x > 0)\n",
    "        return dx\n",
    "\n",
    "    def dropout_backward(self, dA, cache):\n",
    "        dA = 1 - cache **2\n",
    "        return dA \n",
    "\n",
    "    def backPropagation(self, dAL, Y, cache):\n",
    "        \"\"\"\n",
    "        Run backpropagation to compute gradients on all paramters in the model\n",
    "        :param dAL: gradient on the last layer of the network. Returned by the cost function.\n",
    "        :param Y: labels\n",
    "        :param cache: cached values during forwardprop\n",
    "        :returns gradients: dW and db for each weight/bias\n",
    "        \"\"\"\n",
    "        gradients = {'dW': [np.zeros(w.shape) for w in self.weights],\n",
    "                     'db': [np.zeros(b.shape) for b in self.biases]}\n",
    "        w_len = (self.num_layers) - 1\n",
    "        for i in range(w_len):\n",
    "            if self.drop_prob > 0:\n",
    "                return dropout_backward(self, dA, cache)\n",
    "                #call dropout_backward\n",
    "           \n",
    "            \n",
    "        if self.reg_lambda > 0:\n",
    "            dW += dAL*self.weights\n",
    "            # add gradients from L2 regularization to each dW\n",
    "            \n",
    "        return gradients\n",
    "\n",
    "\n",
    "    def updateParameters(self, gradients, alpha):\n",
    "        \"\"\"\n",
    "        :param gradients: gradients for each weight/bias\n",
    "        :param alpha: step size for gradient descent \n",
    "        \"\"\"\n",
    "        \n",
    "        self.weights = [w - (alpha * dw) for w, dw in zip(self.weights,gradients['dW'])]\n",
    "        self.biases = [b - (alpha * db) for b, db in zip(self.biases,gradients['db'])]\n",
    "\n",
    "    def train(self, X, y, iters=1000, alpha=0.0001, batch_size=100, print_every=100):\n",
    "        \"\"\"\n",
    "        :param X: input samples, each column is a sample\n",
    "        :param y: labels for input samples, y.shape[0] must equal X.shape[1]\n",
    "        :param iters: number of training iterations\n",
    "        :param alpha: step size for gradient descent\n",
    "        :param batch_size: number of samples in a minibatch\n",
    "        :param print_every: no. of iterations to print debug info after\n",
    "        \"\"\"\n",
    "        \n",
    "        for i in range(0, iters):\n",
    "            # get minibatch\n",
    "            X_batch, y_batch = get_batch(X, y, batch_size)\n",
    "            \n",
    "            # forward prop\n",
    "            AL, cache = forwardPropagation(X_batch)\n",
    "\n",
    "            # compute loss\n",
    "            cost, dAL = costFunction(AL,y_batch)\n",
    "\n",
    "            # compute gradients\n",
    "            gradients = backPropagation(dAL,y_batch,cache)\n",
    "\n",
    "            # update weights and biases based on gradient\n",
    "            updateParameters(gradients,alpha)\n",
    "\n",
    "            if i % print_every == 0:\n",
    "                # print cost, train and validation set accuracies\n",
    "                \n",
    "    def predict(self, X):\n",
    "        \"\"\"\n",
    "        Make predictions for each sample\n",
    "        \"\"\"\n",
    "\n",
    "        y_pred = [np.argmax(forwardPropagation(x)) for x in X]\n",
    "        return y_pred\n",
    "\n",
    "    def get_batch(self, X, y, batch_size):\n",
    "        \"\"\"\n",
    "        Return minibatch of samples and labels\n",
    "        \n",
    "        :param X, y: samples and corresponding labels\n",
    "        :parma batch_size: minibatch size\n",
    "        :returns: (tuple) X_batch, y_batch\n",
    "        \"\"\"\n",
    "        num_samples = len(y)\n",
    "        idx = np.random.randint(num_samples, size=batch_size)\n",
    "        \n",
    "        X_batch = X[:,idx]\n",
    "        y_batch = y[idx]\n",
    "\n",
    "        return X_batch, y_batch\n",
    "    "
   ]
  },
  {
   "cell_type": "code",
   "execution_count": 3,
   "metadata": {
    "ExecuteTime": {
     "end_time": "2017-10-05T01:56:50.125562",
     "start_time": "2017-10-05T01:56:50.086525"
    },
    "collapsed": false,
    "run_control": {
     "frozen": false,
     "read_only": false
    }
   },
   "outputs": [
    {
     "name": "stdout",
     "output_type": "stream",
     "text": [
      "[[   0.            0.            0.            0.            0.            0.        ]\n",
      " [   0.            0.            0.            0.            0.            0.        ]\n",
      " [ 346.11393379  342.60731341  382.5911783   211.71014542  484.10177676\n",
      "   439.99221486]\n",
      " [   0.            0.            0.            0.            0.            0.        ]]\n",
      "[[-1.0512458   0.59673156  1.17942456 -0.49144803  1.60792931  1.06653289]\n",
      " [-1.04056201  0.14560455 -0.76195773 -0.62429588  1.45913116  1.08310527]\n",
      " [-0.20205452 -0.45376338  0.39750631  0.20755261 -0.20782217 -0.13270209]\n",
      " [ 0.246701    0.38693215 -0.59426762  1.13966871  0.93655367 -1.83375772]]\n",
      "[[   0.            0.            0.            0.            0.            0.        ]\n",
      " [   0.            0.            0.            0.            0.            0.        ]\n",
      " [ 346.11393379  342.60731341  382.5911783   211.71014542  484.10177676\n",
      "   439.99221486]\n",
      " [   0.            0.            0.            0.            0.            0.        ]]\n",
      "11.3248613121\n"
     ]
    }
   ],
   "source": [
    "def affineForward(A, W, b):\n",
    "\n",
    "    Z = np.matmul(W, A) + b\n",
    "    cache = [A,W,b]\n",
    "        \n",
    "    return Z, cache\n",
    "    \n",
    "def forwardPropagation(X):\n",
    "    layer_dimensions = [20, 100, 50, 4]\n",
    "    num_layers = len(layer_dimensions)\n",
    "    layer_dimensions = [X.shape[0]] + layer_dimensions\n",
    "    weights = [np.random.randn(layer_dimensions[layer + 1], layer_dimensions[layer]) for layer in range(num_layers)]\n",
    "    biases = [np.random.randn(layer, 1) for layer in layer_dimensions[1:]]\n",
    "    cache = []\n",
    "    AL = X #do we have to activate X before running as well?\n",
    "    for i in range(num_layers):\n",
    "        h, c = affineForward(AL, weights[i], biases[i])\n",
    "        cache.append(c)\n",
    "        AL = activationForward(h)\n",
    "    \n",
    "    return AL, cache\n",
    "\n",
    "def activationForward(A, activation=\"relu\"):\n",
    "       \n",
    "    if activation == 'relu':\n",
    "        return relu(dropout(A, 0)[0])\n",
    "    else:\n",
    "        return dropout(A, 0)[0]\n",
    "\n",
    "def relu(X):\n",
    "    return np.maximum(0, X)\n",
    "\n",
    "def dropout(A, prob):\n",
    "\n",
    "    M = np.random.binomial(1, 1 - prob, A.shape)\n",
    "    A = M*A\n",
    "        \n",
    "    return A, M\n",
    "\n",
    "def costFunction(AL, y):\n",
    "        \"\"\"\n",
    "        :param AL: Activation of last layer, shape (num_classes, S)\n",
    "        :param y: labels, shape (S)\n",
    "        :param alpha: regularization parameter\n",
    "        :returns cost, dAL: A scalar denoting cost and the gradient of cost\n",
    "        \"\"\"\n",
    "        # compute loss\n",
    "        print(X)\n",
    "        print(AL)\n",
    "        return sum(-np.log(np.exp(X[y, np.arange(y.shape[0])])/np.sum(np.exp(X), axis=0)))\n",
    "\n",
    "X = np.random.randn(4, 6)\n",
    "y = np.array([1, 2, 1, 0, 3, 0])\n",
    "z = forwardPropagation(X)[0]\n",
    "print(z)\n",
    "print(costFunction(z, y))"
   ]
  },
  {
   "cell_type": "code",
   "execution_count": 273,
   "metadata": {
    "ExecuteTime": {
     "end_time": "2017-10-08T01:10:29.161137",
     "start_time": "2017-10-08T01:10:29.149126"
    },
    "collapsed": false,
    "run_control": {
     "frozen": false,
     "read_only": false
    }
   },
   "outputs": [
    {
     "name": "stdout",
     "output_type": "stream",
     "text": [
      "[[0 1 2 3 4 5]\n",
      " [0 1 2 3 4 5]\n",
      " [2 3 4 5 6 7]\n",
      " [2 3 4 5 6 7]]\n",
      "[1 2 1 0 3 0]\n",
      "[   1.           20.08553692    7.3890561    20.08553692  403.42879349\n",
      "  148.4131591 ]\n",
      "[   16.7781122     45.6076375    123.97441226   336.99739205   916.05388705\n",
      "  2490.09263506]\n",
      "[ 0.05960146  0.44039854  0.05960146  0.05960146  0.44039854  0.05960146]\n",
      "12.9204511496\n",
      "6\n",
      "2.15340852494\n",
      "[-0.94039854  0.22738458 -0.94039854 -1.00377748  1.01437062 -1.00377748]\n"
     ]
    }
   ],
   "source": [
    "X = np.array([range(6), range(6), np.arange(2, 8), np.arange(2, 8)])\n",
    "y = np.array([1, 2, 1, 0, 3, 0])\n",
    "print(X)\n",
    "print(y)\n",
    "print(np.exp(X[y, np.arange(y.shape[0])]))\n",
    "print(np.sum(np.exp(X), axis=0))\n",
    "print(np.exp(X[y, np.arange(y.shape[0])])/np.sum(np.exp(X), axis=0))\n",
    "print(np.sum(-np.log(np.exp(X[y, np.arange(y.shape[0])])/np.sum(np.exp(X), axis=0))))\n",
    "a = np.exp(X[y, np.arange(y.shape[0])])/np.sum(np.exp(X), axis=0)\n",
    "print(X.shape[1])\n",
    "cost = np.sum(-np.log(a))/X.shape[1]\n",
    "print(cost)\n",
    "print(-(y - a) - (1 - y)/(1 - a))"
   ]
  },
  {
   "cell_type": "code",
   "execution_count": 274,
   "metadata": {
    "ExecuteTime": {
     "end_time": "2017-10-08T01:10:33.961356",
     "start_time": "2017-10-08T01:10:33.956351"
    },
    "collapsed": false,
    "run_control": {
     "frozen": false,
     "read_only": false
    }
   },
   "outputs": [
    {
     "name": "stdout",
     "output_type": "stream",
     "text": [
      "2.15340852494\n",
      "[-0.94039854  0.22738458 -0.94039854 -1.00377748  1.01437062 -1.00377748]\n"
     ]
    }
   ],
   "source": [
    "a = np.exp(X[y, np.arange(y.shape[0])])/np.sum(np.exp(X), axis=0)\n",
    "cost = np.sum(-np.log(a))/X.shape[1]\n",
    "        \n",
    "dAL = -(y - a) - (1 - y)/(1 - a)\n",
    "\n",
    "print(cost)\n",
    "print(dAL)"
   ]
  },
  {
   "cell_type": "code",
   "execution_count": null,
   "metadata": {
    "ExecuteTime": {
     "end_time": "2017-10-05T01:10:23.665396",
     "start_time": "2017-10-05T01:10:23.640372"
    },
    "collapsed": true,
    "run_control": {
     "frozen": false,
     "read_only": false
    }
   },
   "outputs": [],
   "source": [
    "def get_batch(X, y, start_index, batch_size):\n",
    "\n",
    "    num_samples = y.shape[0]\n",
    "        \n",
    "    end_index = start_index + batch_size\n",
    "    if end_index <= num_samples:\n",
    "        X_batch = X[:, start_index:end_index]\n",
    "        y_batch = y[start_index:end_index]\n",
    "    else:\n",
    "        num_needed = end_index - num_samples\n",
    "        idx = np.random.randint(low=0, high=start_index + 1, size=num_needed)\n",
    "        X_batch = np.hstack((X[:, start_index:num_samples], X[:, idx]))\n",
    "        y_batch = np.hstack((y[start_index:num_samples], y[idx]))\n",
    "\n",
    "    return X_batch, y_batch\n",
    "\n",
    "tmp = np.vstack((X, y.reshape(1, y.shape[0])))\n",
    "\n",
    "np.random.shuffle(tmp.T)\n",
    "X_shuffle = tmp[:-1, :]\n",
    "y_shuffle = tmp[-1]\n",
    "\n",
    "for i in range(0, 4):\n",
    "            # get minibatch\n",
    "    minibatch = get_batch(X_shuffle, y_shuffle, i*6, 6)\n",
    "\n",
    "            "
   ]
  },
  {
   "cell_type": "code",
   "execution_count": 242,
   "metadata": {
    "ExecuteTime": {
     "end_time": "2017-10-05T03:05:22.201946",
     "start_time": "2017-10-05T03:05:22.193939"
    },
    "collapsed": false,
    "run_control": {
     "frozen": false,
     "read_only": false
    }
   },
   "outputs": [
    {
     "name": "stdout",
     "output_type": "stream",
     "text": [
      "[[ 0.46545872 -1.18451186 -0.14435158 ..., -1.10285693  0.2096132\n",
      "   0.09647918]\n",
      " [ 0.41830311 -0.58718594  1.15162257 ...,  0.35347054  1.02449449\n",
      "   1.59520472]]\n",
      "2026.51851294\n",
      "[[-1.44841695  1.47592368]\n",
      " [ 0.9179381   0.29827026]\n",
      " [ 0.53612275 -0.41796752]]\n",
      "2032.18847529\n",
      "[[ 1.51503008 -0.84580818  0.65553981]\n",
      " [-0.10485777  0.83321957 -0.84311856]\n",
      " [-0.46200693  0.99529294  0.21866331]\n",
      " [ 0.56383977 -1.84154886  1.46773239]\n",
      " [ 0.1304769  -0.62208291  0.08807739]\n",
      " [ 0.86629397 -0.14887122 -1.06486437]\n",
      " [ 0.09059368 -1.40816211 -0.58023079]\n",
      " [-0.1845622   1.98474232  0.64060703]\n",
      " [-0.57914649  0.62148421  1.19365481]\n",
      " [ 0.29024885 -0.68542022  0.12202937]]\n",
      "2055.90551489\n",
      "4\n"
     ]
    }
   ],
   "source": [
    "layer_dimensions = [1024, 2, 3, 10]\n",
    "num_layers = len(layer_dimensions)\n",
    "w = [np.random.randn(layer_dimensions[layer],\n",
    "                                        layer_dimensions[layer - 1]) for layer in range(1, num_layers)]\n",
    "\n",
    "sum = 0\n",
    "for arr in w:\n",
    "    print(arr)\n",
    "    sum += np.sum(np.power(arr, 2))\n",
    "    print(sum)\n",
    "print(len(layer_dimensions))"
   ]
  },
  {
   "cell_type": "code",
   "execution_count": 10,
   "metadata": {
    "collapsed": true,
    "run_control": {
     "frozen": false,
     "read_only": false
    }
   },
   "outputs": [],
   "source": [
    "# Helper functions, DO NOT modify this\n",
    "\n",
    "def get_img_array(path):\n",
    "    \"\"\"\n",
    "    Given path of image, returns it's numpy array\n",
    "    \"\"\"\n",
    "    return scipy.misc.imread(path)\n",
    "\n",
    "def get_files(folder):\n",
    "    \"\"\"\n",
    "    Given path to folder, returns list of files in it\n",
    "    \"\"\"\n",
    "    filenames = [file for file in glob.glob(folder+'*/*')]\n",
    "    filenames.sort()\n",
    "    return filenames\n",
    "\n",
    "def get_label(filepath, label2id):\n",
    "    \"\"\"\n",
    "    Files are assumed to be labeled as: /path/to/file/999_frog.png\n",
    "    Returns label for a filepath\n",
    "    \"\"\"\n",
    "    tokens = filepath.split('/')\n",
    "    label = tokens[-1].split('_')[1][:-4]\n",
    "    if label in label2id:\n",
    "        return label2id[label]\n",
    "    else:\n",
    "        sys.exit(\"Invalid label: \" + label)"
   ]
  },
  {
   "cell_type": "code",
   "execution_count": 11,
   "metadata": {
    "collapsed": false,
    "run_control": {
     "frozen": false,
     "read_only": false
    }
   },
   "outputs": [
    {
     "ename": "IndentationError",
     "evalue": "unexpected indent (<ipython-input-11-72e163b042df>, line 70)",
     "output_type": "error",
     "traceback": [
      "\u001b[0;36m  File \u001b[0;32m\"<ipython-input-11-72e163b042df>\"\u001b[0;36m, line \u001b[0;32m70\u001b[0m\n\u001b[0;31m    \"\"\"\u001b[0m\n\u001b[0m    ^\u001b[0m\n\u001b[0;31mIndentationError\u001b[0m\u001b[0;31m:\u001b[0m unexpected indent\n"
     ]
    }
   ],
   "source": [
    "# Functions to load data, DO NOT change these\n",
    "\n",
    "def get_labels(folder, label2id):\n",
    "    \"\"\"\n",
    "    Returns vector of labels extracted from filenames of all files in folder\n",
    "    :param folder: path to data folder\n",
    "    :param label2id: mapping of text labels to numeric ids. (Eg: automobile -> 0)\n",
    "    \"\"\"\n",
    "    files = get_files(folder)\n",
    "    y = []\n",
    "    for f in files:\n",
    "        y.append(get_label(f,label2id))\n",
    "    return np.array(y)\n",
    "\n",
    "def one_hot(y, num_classes=10):\n",
    "    \"\"\"\n",
    "    Converts each label index in y to vector with one_hot encoding\n",
    "    \"\"\"\n",
    "    y_one_hot = np.zeros((y.shape[0], num_classes))\n",
    "    y_one_hot[y] = 1\n",
    "    return y_one_hot.T\n",
    "\n",
    "def get_label_mapping(label_file):\n",
    "    \"\"\"\n",
    "    Returns mappings of label to index and index to label\n",
    "    The input file has list of labels, each on a separate line.\n",
    "    \"\"\"\n",
    "    with open(label_file, 'r') as f:\n",
    "        id2label = f.readlines()\n",
    "        id2label = [l.strip() for l in id2label]\n",
    "    label2id = {}\n",
    "    count = 0\n",
    "    for label in id2label:\n",
    "        label2id[label] = count\n",
    "        count += 1\n",
    "    return id2label, label2id\n",
    "\n",
    "def get_images(folder):\n",
    "    \"\"\"\n",
    "    returns numpy array of all samples in folder\n",
    "    each column is a sample resized to 30x30 and flattened\n",
    "    \"\"\"\n",
    "    files = get_files(folder)\n",
    "    images = []\n",
    "    count = 0\n",
    "    \n",
    "    for f in files:\n",
    "        count += 1\n",
    "        if count % 10000 == 0:\n",
    "            print(\"Loaded {}/{}\".format(count,len(files)))\n",
    "        img_arr = get_img_array(f)\n",
    "        img_arr = img_arr.flatten() / 255.0\n",
    "        images.append(img_arr)\n",
    "    X = np.column_stack(images)\n",
    "\n",
    "    return X\n",
    "\n",
    "def get_train_data(data_root_path):\n",
    "    \"\"\"\n",
    "    Return X and y\n",
    "    \"\"\"\n",
    "    train_data_path = data_root_path + 'train'\n",
    "    id2label, label2id = get_label_mapping(data_root_path+'labels.txt')\n",
    "    print(label2id)\n",
    "    X = get_images(train_data_path)\n",
    "    y = get_labels(train_data_path, label2id)\n",
    "    return X, y\n",
    "\n",
    "def save_predictions(filename, y):py\n",
    "    \"\"\"\n",
    "    Dumps y into .npy file\n",
    "    \"\"\"\n",
    "    np.save(filename, y)"
   ]
  },
  {
   "cell_type": "code",
   "execution_count": 12,
   "metadata": {
    "collapsed": false,
    "run_control": {
     "frozen": false,
     "read_only": false
    }
   },
   "outputs": [
    {
     "ename": "NameError",
     "evalue": "name 'get_train_data' is not defined",
     "output_type": "error",
     "traceback": [
      "\u001b[0;31m---------------------------------------------------------------------------\u001b[0m",
      "\u001b[0;31mNameError\u001b[0m                                 Traceback (most recent call last)",
      "\u001b[0;32m<ipython-input-12-03832d710ab4>\u001b[0m in \u001b[0;36m<module>\u001b[0;34m()\u001b[0m\n\u001b[1;32m      1\u001b[0m \u001b[0;31m# Load the data\u001b[0m\u001b[0;34m\u001b[0m\u001b[0;34m\u001b[0m\u001b[0m\n\u001b[1;32m      2\u001b[0m \u001b[0mdata_root_path\u001b[0m \u001b[0;34m=\u001b[0m \u001b[0;34m'/path/to/extracted/data/cifar10-hw1/'\u001b[0m\u001b[0;34m\u001b[0m\u001b[0m\n\u001b[0;32m----> 3\u001b[0;31m \u001b[0mX_train\u001b[0m\u001b[0;34m,\u001b[0m \u001b[0my_train\u001b[0m \u001b[0;34m=\u001b[0m \u001b[0mget_train_data\u001b[0m\u001b[0;34m(\u001b[0m\u001b[0mdata_root_path\u001b[0m\u001b[0;34m)\u001b[0m \u001b[0;31m# this may take a few minutes\u001b[0m\u001b[0;34m\u001b[0m\u001b[0m\n\u001b[0m\u001b[1;32m      4\u001b[0m \u001b[0mX_test\u001b[0m \u001b[0;34m=\u001b[0m \u001b[0mget_images\u001b[0m\u001b[0;34m(\u001b[0m\u001b[0mdata_root_path\u001b[0m \u001b[0;34m+\u001b[0m \u001b[0;34m'test'\u001b[0m\u001b[0;34m)\u001b[0m\u001b[0;34m\u001b[0m\u001b[0m\n\u001b[1;32m      5\u001b[0m \u001b[0mprint\u001b[0m\u001b[0;34m(\u001b[0m\u001b[0;34m'Data loading done'\u001b[0m\u001b[0;34m)\u001b[0m\u001b[0;34m\u001b[0m\u001b[0m\n",
      "\u001b[0;31mNameError\u001b[0m: name 'get_train_data' is not defined"
     ]
    }
   ],
   "source": [
    "# Load the data\n",
    "data_root_path = '/path/to/extracted/data/cifar10-hw1/'\n",
    "X_train, y_train = get_train_data(data_root_path) # this may take a few minutes\n",
    "X_test = get_images(data_root_path + 'test')\n",
    "print('Data loading done')"
   ]
  },
  {
   "cell_type": "markdown",
   "metadata": {
    "run_control": {
     "frozen": false,
     "read_only": false
    }
   },
   "source": [
    "## Part 1\n",
    "\n",
    "#### Simple fully-connected deep neural network"
   ]
  },
  {
   "cell_type": "code",
   "execution_count": null,
   "metadata": {
    "collapsed": true,
    "run_control": {
     "frozen": false,
     "read_only": false
    },
    "scrolled": true
   },
   "outputs": [],
   "source": [
    "layer_dimensions = [X_train.shape[0], ..., 10]  # including the input and output layers\n",
    "NN = NeuralNetwork(layer_dimensions)\n",
    "NN.train(X_train, y_train, iters=, alpha=, batch_size=, print_every=)"
   ]
  },
  {
   "cell_type": "code",
   "execution_count": null,
   "metadata": {
    "collapsed": true,
    "run_control": {
     "frozen": false,
     "read_only": false
    }
   },
   "outputs": [],
   "source": [
    "y_predicted = NN.predict(X_test)\n",
    "save_predictions('ans1-uni', y_predicted)"
   ]
  },
  {
   "cell_type": "code",
   "execution_count": null,
   "metadata": {
    "collapsed": true,
    "run_control": {
     "frozen": false,
     "read_only": false
    }
   },
   "outputs": [],
   "source": [
    "# test if your numpy file has been saved correctly\n",
    "loaded_y = np.load('ans1-uni.npy')\n",
    "print(loaded_y.shape)\n",
    "loaded_y[:10]"
   ]
  },
  {
   "cell_type": "markdown",
   "metadata": {
    "collapsed": true,
    "run_control": {
     "frozen": false,
     "read_only": false
    }
   },
   "source": [
    "## Part 2: Regularizing the neural network\n",
    "#### Add dropout and L2 regularization"
   ]
  },
  {
   "cell_type": "code",
   "execution_count": null,
   "metadata": {
    "collapsed": true,
    "run_control": {
     "frozen": false,
     "read_only": false
    }
   },
   "outputs": [],
   "source": [
    "NN2 = NeuralNetwork(layer_dimensions, drop_prob=0, reg_lambda=0)\n",
    "NN2.train(X_train, y_train, iters=1000, alpha=0.00001, batch_size=1000, print_every=10)"
   ]
  },
  {
   "cell_type": "code",
   "execution_count": null,
   "metadata": {
    "collapsed": true,
    "run_control": {
     "frozen": false,
     "read_only": false
    }
   },
   "outputs": [],
   "source": [
    "y_predicted2 = NN2.predict(X)\n",
    "save_predictions(y_predicted, 'ans2-uni')"
   ]
  }
 ],
 "metadata": {
  "anaconda-cloud": {},
  "kernelspec": {
   "display_name": "Python [Root]",
   "language": "python",
   "name": "Python [Root]"
  },
  "language_info": {
   "codemirror_mode": {
    "name": "ipython",
    "version": 3
   },
   "file_extension": ".py",
   "mimetype": "text/x-python",
   "name": "python",
   "nbconvert_exporter": "python",
   "pygments_lexer": "ipython3",
   "version": "3.5.2"
  }
 },
 "nbformat": 4,
 "nbformat_minor": 2
}
